{
 "cells": [
  {
   "cell_type": "markdown",
   "metadata": {},
   "source": [
    "# Graph Sage sử dụng cho Node representation"
   ]
  },
  {
   "cell_type": "markdown",
   "metadata": {},
   "source": [
    "## Dataset"
   ]
  },
  {
   "cell_type": "markdown",
   "metadata": {},
   "source": [
    "Protein protein interaction"
   ]
  },
  {
   "cell_type": "markdown",
   "metadata": {},
   "source": [
    "### Input format <br/>\n",
    "\n",
    " File-G.json --  json file chứa thông tin đầu vào của graph về node, edge. <br/>\n",
    " File-id_map.json -- Lưu thông tin về id của các node. <br/>\n",
    " File-class_map.json -- Lưu thông tin về class hay label của các node. <br/>\n",
    " File-feats.npy [optional] --- Node feature, node attribute <br/>\n",
    " File-walks.txt [optional] --- file chỉ định các lần xuất hiện random walk."
   ]
  },
  {
   "cell_type": "markdown",
   "metadata": {},
   "source": [
    "## Embedding"
   ]
  },
  {
   "cell_type": "markdown",
   "metadata": {},
   "source": [
    "Chạy lệnh:<br/>\n",
    "python -m graphsage.unsupervised_train --train_prefix ./ppi_data/ppi --model graphsage_mean --max_total_steps 1000 --validate_iter 10"
   ]
  },
  {
   "cell_type": "markdown",
   "metadata": {},
   "source": [
    "thông tin embedd của các node sẽ được lưu lại trong file val.npy"
   ]
  },
  {
   "cell_type": "markdown",
   "metadata": {},
   "source": [
    "# Node classification"
   ]
  },
  {
   "cell_type": "code",
   "execution_count": 2,
   "metadata": {},
   "outputs": [],
   "source": [
    "import numpy as np\n",
    "from networkx.readwrite import json_graph\n",
    "import json\n",
    "\n",
    "dataset_dir = './GraphSAGE/ppi_data'\n",
    "data_dir = './GraphSAGE/unsup-ppi_data/graphsage_mean_small_0.000010'"
   ]
  },
  {
   "cell_type": "markdown",
   "metadata": {},
   "source": [
    "### Xử lí data"
   ]
  },
  {
   "cell_type": "code",
   "execution_count": 3,
   "metadata": {},
   "outputs": [],
   "source": [
    "G = json_graph.node_link_graph(json.load(open(dataset_dir + \"/ppi-G.json\")))\n",
    "labels = json.load(open(dataset_dir + \"/ppi-class_map.json\"))\n",
    "labels = {int(i):l for i, l in labels.items()}\n",
    "\n",
    "train_ids = [n for n in G.nodes() if not G.node[n]['val'] and not G.node[n]['test']]\n",
    "train_labels = np.array([labels[i] for i in train_ids])\n",
    "test_ids = [n for n in G.nodes() if G.node[n]['val'] or G.node[n]['test']]\n",
    "test_labels = np.array([labels[i] for i in test_ids])\n",
    "\n",
    "embeds = np.load(data_dir + \"/val.npy\")\n",
    "\n",
    "id_map = {}\n",
    "with open(data_dir + \"/val.txt\") as fp:\n",
    "    for i, line in enumerate(fp):\n",
    "        id_map[int(line.strip())] = i\n",
    "train_embeds = embeds[[id_map[id] for id in train_ids]]\n",
    "test_embeds = embeds[[id_map[id] for id in test_ids]]"
   ]
  },
  {
   "cell_type": "markdown",
   "metadata": {},
   "source": [
    "### vector node embedding"
   ]
  },
  {
   "cell_type": "code",
   "execution_count": 7,
   "metadata": {},
   "outputs": [
    {
     "name": "stdout",
     "output_type": "stream",
     "text": [
      "Train data: 44906\n",
      "Test data: 12038\n",
      "[-0.05542022  0.03955797 -0.03278705  0.013212   -0.07131557 -0.02094384\n",
      " -0.03544485  0.06932638 -0.04968539  0.07765641  0.1317103   0.18846025\n",
      "  0.0693346  -0.05343338  0.05961615  0.02985436  0.03919346  0.09237635\n",
      "  0.03041657 -0.01732718  0.04885008 -0.0255577  -0.00207216 -0.00488547\n",
      "  0.00750719  0.05839671  0.05775898  0.07103132  0.02165969 -0.12403699\n",
      "  0.04033683  0.0477627  -0.23823944 -0.09042604 -0.03936075 -0.05098277\n",
      " -0.04373214  0.08860636  0.02481151 -0.00338339 -0.05418244  0.072975\n",
      " -0.05043067  0.02901203 -0.00058473 -0.05670315 -0.01538582 -0.11889282\n",
      "  0.03093199  0.04993587  0.03645257  0.0606937  -0.06639259  0.09447865\n",
      "  0.00764183 -0.03181717  0.01144708 -0.09786566  0.02439624 -0.03185292\n",
      "  0.06483772 -0.04504294 -0.01713146 -0.03242396  0.03894665  0.03075094\n",
      " -0.03840124 -0.01867723 -0.02584256  0.01045557 -0.00799712  0.04068759\n",
      " -0.02996851 -0.01341127  0.06472888 -0.14384094  0.07961451  0.0700298\n",
      " -0.03414496  0.06252636  0.08113524  0.0880651   0.06114529 -0.01660884\n",
      " -0.09395286 -0.05810265 -0.00679122 -0.01334646 -0.04359382  0.03777424\n",
      " -0.0030412  -0.01343109  0.07638678 -0.02009768 -0.07480352 -0.02661997\n",
      "  0.04095036 -0.12374032  0.03399409 -0.02907073  0.01605964  0.09882095\n",
      "  0.01207004  0.06385781  0.00501873  0.05572666  0.11114862  0.07449853\n",
      "  0.04556781 -0.02643441 -0.07813447 -0.05389301  0.04422483 -0.12947458\n",
      " -0.05956477  0.06296967  0.01138785 -0.05898856  0.03436406 -0.05977504\n",
      " -0.06816687 -0.0490333  -0.09575737  0.00939459  0.04719885  0.05303145\n",
      " -0.02511011  0.02025967  0.03273616  0.03533543  0.03483439  0.0238075\n",
      "  0.04569816  0.06009775 -0.02497642  0.0595041  -0.07084557  0.0509496\n",
      " -0.00118268 -0.01719254  0.04523219 -0.02942444  0.02877624  0.02548246\n",
      "  0.06069035 -0.0414876  -0.03230302 -0.0250717   0.09153713 -0.01767005\n",
      " -0.05651576  0.11150341 -0.11685232 -0.06616721  0.01194396 -0.05941829\n",
      " -0.04467462  0.03759097  0.15907474  0.04076409  0.02724552  0.13944057\n",
      "  0.00712967 -0.16927403 -0.03076876  0.01506545 -0.01134913 -0.11071688\n",
      " -0.0550518   0.10401275  0.07509812  0.11879387  0.00162805 -0.0055152\n",
      " -0.0688552   0.09176701 -0.04844858 -0.02343287 -0.00128915  0.00680401\n",
      " -0.08522365  0.05123524 -0.00669399  0.01681141  0.05308961  0.01394044\n",
      " -0.04143988 -0.00030249  0.08654597  0.07265821 -0.01843625 -0.04543889\n",
      " -0.07171459  0.07084738  0.00829598  0.01489975 -0.00397906 -0.09893108\n",
      " -0.06151571  0.0910508   0.09083645  0.05495604  0.07394939  0.05238152\n",
      "  0.09582143 -0.00145158 -0.0946483  -0.08117902  0.02559722 -0.10677341\n",
      " -0.07600161 -0.06691602  0.00983542  0.02060687 -0.02984628 -0.02295254\n",
      " -0.08485031 -0.07356327 -0.01816013 -0.05578971 -0.0144994   0.04608333\n",
      " -0.04238162 -0.02849755  0.02037792  0.03634573  0.04602306  0.01914137\n",
      " -0.04258305  0.03035764 -0.00172111 -0.08889217  0.02189739  0.04030955\n",
      "  0.11592689  0.05641337  0.04145379 -0.09241974  0.04596739  0.00828048\n",
      "  0.01578018  0.13421097  0.02975514 -0.0451019   0.03964148  0.06866664\n",
      "  0.06789317 -0.02729701 -0.0546196   0.10820177  0.018041   -0.00287583\n",
      " -0.00120858 -0.01863571  0.13124916  0.09151659]\n"
     ]
    }
   ],
   "source": [
    "print(\"Train data: %s\" %len(train_embeds))\n",
    "print(\"Test data: %s\" %len(test_embeds))\n",
    "\n",
    "# vector của node 0 \n",
    "print(train_embeds[0])"
   ]
  },
  {
   "cell_type": "code",
   "execution_count": 9,
   "metadata": {},
   "outputs": [
    {
     "name": "stdout",
     "output_type": "stream",
     "text": [
      "(44906, 256)\n"
     ]
    }
   ],
   "source": [
    "print(train_embeds.shape)"
   ]
  },
  {
   "cell_type": "markdown",
   "metadata": {},
   "source": [
    "### model"
   ]
  },
  {
   "cell_type": "markdown",
   "metadata": {},
   "source": [
    "bài toán Multi output classfier"
   ]
  },
  {
   "cell_type": "code",
   "execution_count": 12,
   "metadata": {},
   "outputs": [
    {
     "name": "stdout",
     "output_type": "stream",
     "text": [
      "accuracy score 0.6467851802625021\n",
      "accuracy score 0.7688984881209503\n",
      "accuracy score 0.7945672038544609\n",
      "accuracy score 0.7666555906296727\n",
      "accuracy score 0.8652600099684333\n",
      "accuracy score 0.8110981890679515\n",
      "accuracy score 0.762003655092208\n",
      "accuracy score 0.6593287921581658\n",
      "accuracy score 0.8449077919920253\n",
      "accuracy score 0.6715401229440107\n",
      "accuracy score 0.7925735171955475\n",
      "accuracy score 0.7812759594617046\n",
      "accuracy score 0.7003655092208008\n",
      "accuracy score 0.8203189898654262\n",
      "accuracy score 0.8264661903970759\n",
      "accuracy score 0.6424655258348563\n",
      "accuracy score 0.8961621531815916\n",
      "accuracy score 0.8577006147200532\n",
      "accuracy score 0.7408207343412527\n",
      "accuracy score 0.6072437281940521\n",
      "accuracy score 0.8129257351719554\n",
      "accuracy score 0.6403887688984882\n",
      "accuracy score 0.7880046519355375\n",
      "accuracy score 0.6809270642963947\n",
      "accuracy score 0.8375145372985546\n",
      "accuracy score 0.6450407044359528\n",
      "accuracy score 0.6678850307360027\n",
      "accuracy score 0.693304535637149\n",
      "accuracy score 0.6986210333942515\n",
      "accuracy score 0.834025585645456\n",
      "accuracy score 0.6699617876723708\n",
      "accuracy score 0.8549592955640472\n",
      "accuracy score 0.8843661737830204\n",
      "accuracy score 0.847399900315667\n",
      "accuracy score 0.7986376474497425\n",
      "accuracy score 0.6980395414520685\n",
      "accuracy score 0.8111812593454062\n",
      "accuracy score 0.8018773882704768\n",
      "accuracy score 0.648612726366506\n",
      "accuracy score 0.7953148363515534\n",
      "accuracy score 0.8494766572520352\n",
      "accuracy score 0.7991360691144709\n",
      "accuracy score 0.8079415185246719\n",
      "accuracy score 0.8035387938195714\n",
      "accuracy score 0.869579664396079\n",
      "accuracy score 0.7409868748961621\n",
      "accuracy score 0.6338262169795648\n",
      "accuracy score 0.6350722711413856\n",
      "accuracy score 0.7693969097856787\n",
      "accuracy score 0.7837680677853464\n",
      "accuracy score 0.6722877554411032\n",
      "accuracy score 0.725535803289583\n",
      "accuracy score 0.6340754278119289\n",
      "accuracy score 0.6373982389101179\n",
      "accuracy score 0.7685662070111314\n",
      "accuracy score 0.7600930387107493\n",
      "accuracy score 0.8424156836683835\n",
      "accuracy score 0.8458215650440273\n",
      "accuracy score 0.8352716398072769\n",
      "accuracy score 0.7888353547100847\n",
      "accuracy score 0.6184582156504402\n",
      "accuracy score 0.842249543113474\n",
      "accuracy score 0.8174115301545107\n",
      "accuracy score 0.7958963282937365\n",
      "accuracy score 0.8078584482472172\n",
      "accuracy score 0.8743146702109985\n",
      "accuracy score 0.5665392922412361\n",
      "accuracy score 0.6707094201694633\n",
      "accuracy score 0.6322478817079249\n",
      "accuracy score 0.7302708091045024\n",
      "accuracy score 0.7673201528493105\n",
      "accuracy score 0.8375145372985546\n",
      "accuracy score 0.846818408373484\n",
      "accuracy score 0.7308523010466855\n",
      "accuracy score 0.8217311845821565\n",
      "accuracy score 0.8082737996344908\n",
      "accuracy score 0.6798471506894833\n",
      "accuracy score 0.8606080744309687\n",
      "accuracy score 0.7517860109652766\n",
      "accuracy score 0.7856786841668051\n",
      "accuracy score 0.7904967602591793\n",
      "accuracy score 0.5882206346569198\n",
      "accuracy score 0.7448081076590796\n",
      "accuracy score 0.820069779033062\n",
      "accuracy score 0.845904635321482\n",
      "accuracy score 0.5865592291078252\n",
      "accuracy score 0.9073766406379797\n",
      "accuracy score 0.7387439774048845\n",
      "accuracy score 0.7472171457052666\n",
      "accuracy score 0.8144210001661406\n",
      "accuracy score 0.8400066456221964\n",
      "accuracy score 0.7509553081907293\n",
      "accuracy score 0.6923076923076923\n",
      "accuracy score 0.8310350556570859\n",
      "accuracy score 0.8064462535304868\n",
      "accuracy score 0.7022761256022595\n",
      "accuracy score 0.8374314670210998\n",
      "accuracy score 0.6172952317660741\n",
      "accuracy score 0.6329124439275627\n",
      "accuracy score 0.7456388104336269\n",
      "accuracy score 0.5799136069114471\n",
      "accuracy score 0.7651603256354876\n",
      "accuracy score 0.8366838345240073\n",
      "accuracy score 0.716398072769563\n",
      "accuracy score 0.8262169795647117\n",
      "accuracy score 0.7226283435786676\n",
      "accuracy score 0.7190563216481143\n",
      "accuracy score 0.8066123940853962\n",
      "accuracy score 0.6388104336268483\n",
      "accuracy score 0.6563382621697956\n",
      "accuracy score 0.7241236085728526\n",
      "accuracy score 0.8274630337265326\n",
      "accuracy score 0.7469679348729025\n",
      "accuracy score 0.7335936202026915\n",
      "accuracy score 0.8110151187904968\n",
      "accuracy score 0.645289915268317\n",
      "accuracy score 0.8775544110317328\n",
      "accuracy score 0.7600930387107493\n",
      "accuracy score 0.8060309021432132\n",
      "accuracy score 0.6177105831533477\n",
      "accuracy score 0.7749626183751454\n"
     ]
    }
   ],
   "source": [
    "from sklearn.linear_model import SGDClassifier\n",
    "from sklearn.metrics import f1_score,accuracy_score\n",
    "from sklearn.multioutput import MultiOutputClassifier\n",
    "\n",
    "log = MultiOutputClassifier(SGDClassifier(loss=\"log\"), n_jobs=10)\n",
    "log.fit(train_embeds, train_labels)\n",
    "\n",
    "for i in range(test_labels.shape[1]):\n",
    "    print(\"accuracy score\", accuracy_score(test_labels[:, i], log.predict(test_embeds)[:, i]))"
   ]
  },
  {
   "cell_type": "code",
   "execution_count": null,
   "metadata": {},
   "outputs": [],
   "source": []
  }
 ],
 "metadata": {
  "kernelspec": {
   "display_name": "Python 3",
   "language": "python",
   "name": "python3"
  },
  "language_info": {
   "codemirror_mode": {
    "name": "ipython",
    "version": 3
   },
   "file_extension": ".py",
   "mimetype": "text/x-python",
   "name": "python",
   "nbconvert_exporter": "python",
   "pygments_lexer": "ipython3",
   "version": "3.6.5"
  }
 },
 "nbformat": 4,
 "nbformat_minor": 2
}
